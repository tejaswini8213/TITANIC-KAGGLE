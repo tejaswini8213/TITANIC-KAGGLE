{
  "nbformat": 4,
  "nbformat_minor": 0,
  "metadata": {
    "colab": {
      "provenance": [],
      "include_colab_link": true
    },
    "kernelspec": {
      "name": "python3",
      "display_name": "Python 3"
    },
    "language_info": {
      "name": "python"
    }
  },
  "cells": [
    {
      "cell_type": "markdown",
      "metadata": {
        "id": "view-in-github",
        "colab_type": "text"
      },
      "source": [
        "<a href=\"https://colab.research.google.com/github/tejaswini8213/Titanic-Kaggle/blob/main/titanic_final.ipynb\" target=\"_parent\"><img src=\"https://colab.research.google.com/assets/colab-badge.svg\" alt=\"Open In Colab\"/></a>"
      ]
    },
    {
      "cell_type": "code",
      "execution_count": null,
      "metadata": {
        "id": "v3M7iZJ0mdAS"
      },
      "outputs": [],
      "source": [
        "import pandas as pd\n",
        "import numpy as np\n",
        "import seaborn as sns\n",
        "import sklearn as sk\n",
        "%matplotlib inline\n",
        "import matplotlib.pyplot as plt\n",
        "import tensorflow as tf"
      ]
    },
    {
      "cell_type": "code",
      "source": [
        "! pip install -q kaggle\n",
        "! mkdir ~/.kaggle\n",
        "! cp kaggle.json ~/.kaggle/\n",
        "! chmod 600 ~/.kaggle/kaggle.json\n",
        "! kaggle datasets list\n",
        "! kaggle competitions download -c titanic\n",
        "! unzip titanic.zip "
      ],
      "metadata": {
        "colab": {
          "base_uri": "https://localhost:8080/"
        },
        "id": "gbFjdrSommtE",
        "outputId": "256054a4-5d96-41c5-9a9a-82020efaad8a"
      },
      "execution_count": null,
      "outputs": [
        {
          "output_type": "stream",
          "name": "stdout",
          "text": [
            "mkdir: cannot create directory ‘/root/.kaggle’: File exists\n",
            "ref                                                            title                                                size  lastUpdated          downloadCount  voteCount  usabilityRating  \n",
            "-------------------------------------------------------------  --------------------------------------------------  -----  -------------------  -------------  ---------  ---------------  \n",
            "akshaydattatraykhare/diabetes-dataset                          Diabetes Dataset                                      9KB  2022-10-06 08:55:25          16383        477  1.0              \n",
            "akshaydattatraykhare/data-for-admission-in-the-university      Data for Admission in the University                  4KB  2022-10-27 11:05:45           4233         99  1.0              \n",
            "thedevastator/jobs-dataset-from-glassdoor                      Salary Prediction                                     3MB  2022-11-16 13:52:31            781         28  1.0              \n",
            "swaptr/layoffs-2022                                            Layoffs 2022                                         30KB  2022-11-20 18:05:26           1335         42  1.0              \n",
            "meirnizri/covid19-dataset                                      COVID-19 Dataset                                      5MB  2022-11-13 15:47:17           1306         35  1.0              \n",
            "dheerajmukati/india-gdp-19602022                               India GDP 1960-2022                                   1KB  2022-11-11 12:08:46            679         26  1.0              \n",
            "whenamancodes/predict-diabities                                Predict Diabetes                                      9KB  2022-11-09 12:18:49           1981         44  1.0              \n",
            "elmoallistair/fertility-rate-19602020                          Fertility Rate (1960-2020)                           19KB  2022-11-17 01:31:16            404         25  0.9117647        \n",
            "zvr842/global-pollution-by-counties                            Global pollution by counties                         15KB  2022-11-14 10:57:31            700         24  0.9705882        \n",
            "whenamancodes/credit-card-customers-prediction                 Credit Card Customers Prediction                    379KB  2022-10-30 13:03:27           2821         62  1.0              \n",
            "whenamancodes/covid-19-coronavirus-pandemic-dataset            COVID -19 Coronavirus Pandemic Dataset               11KB  2022-09-30 04:05:11          11915        371  1.0              \n",
            "jillanisofttech/flight-price-prediction-dataset                Flight Price Prediction DataSet                     602KB  2022-11-18 10:37:29            755         26  0.7941176        \n",
            "ifteshanajnin/carinsuranceclaimprediction-classification       Car Insurance Claim Prediction                        2MB  2022-11-14 15:38:26            570         24  1.0              \n",
            "dbarteaux99/stable-diffusion-1-5                               Stable Diffusion 1.5 (normal and EMAonly) with vae    7GB  2022-10-23 15:40:29             42         16  0.9375           \n",
            "maharshipandya/-spotify-tracks-dataset                         🎹 Spotify Tracks Dataset                              8MB  2022-10-22 14:40:15           3566        102  1.0              \n",
            "aneesayoub/world-universities-ranking-2022                     World Universities Ranking 2022                      41KB  2022-11-17 03:47:37           1238         33  0.9117647        \n",
            "hasibalmuzdadid/global-air-pollution-dataset                   Global Air Pollution Dataset                        371KB  2022-11-08 14:43:32           2084         56  1.0              \n",
            "thedevastator/cancer-patients-and-air-pollution-a-new-link      Lung Cancer Prediction                               7KB  2022-11-14 13:40:40            873         32  1.0              \n",
            "salmankhaliq22/road-traffic-collision-dataset                  UK Road Traffic Collision Dataset                    99MB  2022-11-09 06:46:16            567         32  1.0              \n",
            "thedevastator/top-selling-nintendo-entertainment-system-games  Nintendo Entertainment System Games                  23KB  2022-11-11 17:47:38            508         22  0.85294116       \n",
            "titanic.zip: Skipping, found more recently modified local copy (use --force to force download)\n",
            "Archive:  titanic.zip\n",
            "replace gender_submission.csv? [y]es, [n]o, [A]ll, [N]one, [r]ename: y\n",
            "  inflating: gender_submission.csv   \n",
            "replace test.csv? [y]es, [n]o, [A]ll, [N]one, [r]ename: y\n",
            "  inflating: test.csv                \n",
            "replace train.csv? [y]es, [n]o, [A]ll, [N]one, [r]ename: y\n",
            "  inflating: train.csv               \n"
          ]
        }
      ]
    },
    {
      "cell_type": "code",
      "source": [
        "df_train=pd.read_csv(\"train.csv\") \n",
        "df_test= pd.read_csv(\"test.csv\")"
      ],
      "metadata": {
        "id": "wQg_ZGrJm21Z"
      },
      "execution_count": null,
      "outputs": []
    },
    {
      "cell_type": "code",
      "source": [
        "df_train.drop(\"Name\",inplace=True, axis=1) \n",
        "df_test.drop(\"Name\",inplace=True, axis=1)"
      ],
      "metadata": {
        "id": "foriBWWKm6UF"
      },
      "execution_count": null,
      "outputs": []
    },
    {
      "cell_type": "code",
      "source": [
        "df_test.info()"
      ],
      "metadata": {
        "colab": {
          "base_uri": "https://localhost:8080/"
        },
        "id": "0q4Bp63IgXde",
        "outputId": "e9d3b2e2-a527-42ae-acaa-931ff6b97a26"
      },
      "execution_count": null,
      "outputs": [
        {
          "output_type": "stream",
          "name": "stdout",
          "text": [
            "<class 'pandas.core.frame.DataFrame'>\n",
            "RangeIndex: 418 entries, 0 to 417\n",
            "Data columns (total 10 columns):\n",
            " #   Column       Non-Null Count  Dtype  \n",
            "---  ------       --------------  -----  \n",
            " 0   PassengerId  418 non-null    int64  \n",
            " 1   Pclass       418 non-null    int64  \n",
            " 2   Sex          418 non-null    object \n",
            " 3   Age          332 non-null    float64\n",
            " 4   SibSp        418 non-null    int64  \n",
            " 5   Parch        418 non-null    int64  \n",
            " 6   Ticket       418 non-null    object \n",
            " 7   Fare         417 non-null    float64\n",
            " 8   Cabin        91 non-null     object \n",
            " 9   Embarked     418 non-null    object \n",
            "dtypes: float64(2), int64(4), object(4)\n",
            "memory usage: 32.8+ KB\n"
          ]
        }
      ]
    },
    {
      "cell_type": "code",
      "source": [
        "df_train.info()"
      ],
      "metadata": {
        "colab": {
          "base_uri": "https://localhost:8080/"
        },
        "id": "-qkrDMl_m9cQ",
        "outputId": "96e11c82-1ae7-42ee-8d35-98a96b8efe65"
      },
      "execution_count": null,
      "outputs": [
        {
          "output_type": "stream",
          "name": "stdout",
          "text": [
            "<class 'pandas.core.frame.DataFrame'>\n",
            "RangeIndex: 891 entries, 0 to 890\n",
            "Data columns (total 11 columns):\n",
            " #   Column       Non-Null Count  Dtype  \n",
            "---  ------       --------------  -----  \n",
            " 0   PassengerId  891 non-null    int64  \n",
            " 1   Survived     891 non-null    int64  \n",
            " 2   Pclass       891 non-null    int64  \n",
            " 3   Sex          891 non-null    object \n",
            " 4   Age          714 non-null    float64\n",
            " 5   SibSp        891 non-null    int64  \n",
            " 6   Parch        891 non-null    int64  \n",
            " 7   Ticket       891 non-null    object \n",
            " 8   Fare         891 non-null    float64\n",
            " 9   Cabin        204 non-null    object \n",
            " 10  Embarked     889 non-null    object \n",
            "dtypes: float64(2), int64(5), object(4)\n",
            "memory usage: 76.7+ KB\n"
          ]
        }
      ]
    },
    {
      "cell_type": "code",
      "source": [
        "df_train[\"Sex\"].replace(\"female\",1,inplace=True)  \n",
        "df_test[\"Sex\"].replace(\"female\",1,inplace=True) \n",
        "df_train[\"Sex\"].replace(\"male\",0,inplace=True)  \n",
        "df_test[\"Sex\"].replace(\"male\",0,inplace=True)  \n",
        "df_train.drop(\"PassengerId\",inplace=True, axis=1) "
      ],
      "metadata": {
        "id": "laHtyT4fnAmh"
      },
      "execution_count": null,
      "outputs": []
    },
    {
      "cell_type": "code",
      "source": [
        "df_train.drop(\"Ticket\",inplace=True, axis=1) \n",
        "df_test.drop(\"Ticket\",inplace=True, axis=1) \n",
        "df_train.drop(\"Cabin\",inplace=True, axis=1) \n",
        "df_test.drop(\"Cabin\",inplace=True, axis=1) \n",
        "df_train[\"Age\"].fillna(df_train[\"Age\"].mean(),inplace=True) \n",
        "df_test[\"Age\"].fillna(df_test[\"Age\"].mean(),inplace=True)  \n",
        "df_train[\"Embarked\"].fillna(df_train[\"Embarked\"].mode()[0],inplace=True) \n",
        "df_test[\"Embarked\"].fillna(df_test[\"Embarked\"].mode()[0],inplace=True) "
      ],
      "metadata": {
        "id": "vv_kEdorotFS"
      },
      "execution_count": null,
      "outputs": []
    },
    {
      "cell_type": "code",
      "source": [
        "df_train.info()"
      ],
      "metadata": {
        "colab": {
          "base_uri": "https://localhost:8080/"
        },
        "id": "ROouoiJdfoyW",
        "outputId": "287a4661-f370-485c-d714-31e8736e5f82"
      },
      "execution_count": null,
      "outputs": [
        {
          "output_type": "stream",
          "name": "stdout",
          "text": [
            "<class 'pandas.core.frame.DataFrame'>\n",
            "RangeIndex: 891 entries, 0 to 890\n",
            "Data columns (total 8 columns):\n",
            " #   Column    Non-Null Count  Dtype  \n",
            "---  ------    --------------  -----  \n",
            " 0   Survived  891 non-null    int64  \n",
            " 1   Pclass    891 non-null    int64  \n",
            " 2   Sex       891 non-null    int64  \n",
            " 3   Age       891 non-null    float64\n",
            " 4   SibSp     891 non-null    int64  \n",
            " 5   Parch     891 non-null    int64  \n",
            " 6   Fare      891 non-null    float64\n",
            " 7   Embarked  891 non-null    object \n",
            "dtypes: float64(2), int64(5), object(1)\n",
            "memory usage: 55.8+ KB\n"
          ]
        }
      ]
    },
    {
      "cell_type": "code",
      "source": [
        "df_test.isnull().sum()"
      ],
      "metadata": {
        "colab": {
          "base_uri": "https://localhost:8080/"
        },
        "id": "1_Hv-kAwpXHy",
        "outputId": "23233dce-fce4-4691-98bb-07ceac994c88"
      },
      "execution_count": null,
      "outputs": [
        {
          "output_type": "execute_result",
          "data": {
            "text/plain": [
              "PassengerId    0\n",
              "Pclass         0\n",
              "Sex            0\n",
              "Age            0\n",
              "SibSp          0\n",
              "Parch          0\n",
              "Fare           1\n",
              "Embarked       0\n",
              "dtype: int64"
            ]
          },
          "metadata": {},
          "execution_count": 51
        }
      ]
    },
    {
      "cell_type": "code",
      "source": [
        "df_train.dropna(how=\"any\",inplace=True)\n",
        "df_test['Fare'].fillna(df_test[\"Fare\"].mean(),inplace=True)\n"
      ],
      "metadata": {
        "id": "WYYwECBGsnwy"
      },
      "execution_count": null,
      "outputs": []
    },
    {
      "cell_type": "code",
      "source": [
        "from sklearn.preprocessing import MinMaxScaler \n",
        "#normalisation of age\n",
        "scaler= MinMaxScaler() \n",
        "df_train[[\"Age\"]]= scaler.fit_transform(df_train[[\"Age\"]])\n",
        "df_test[[\"Age\"]]= scaler.fit_transform(df_test[[\"Age\"]]) \n",
        "#normalisation of fare\n",
        "df_train[[\"Fare\"]]= scaler.fit_transform(df_train[[\"Fare\"]])\n",
        "df_test[[\"Fare\"]]= scaler.fit_transform(df_test[[\"Fare\"]])"
      ],
      "metadata": {
        "id": "kdxFSE5VtMFO"
      },
      "execution_count": null,
      "outputs": []
    },
    {
      "cell_type": "code",
      "source": [
        "from sklearn.preprocessing import LabelEncoder \n",
        "le= LabelEncoder()\n",
        "df_train[\"Embarked\"]=le.fit_transform(df_train[\"Embarked\"])\n",
        "df_test[\"Embarked\"]=le.fit_transform(df_test[\"Embarked\"])"
      ],
      "metadata": {
        "id": "PHOUY1Eit1G2"
      },
      "execution_count": null,
      "outputs": []
    },
    {
      "cell_type": "code",
      "source": [
        "df_test.info()"
      ],
      "metadata": {
        "colab": {
          "base_uri": "https://localhost:8080/"
        },
        "id": "PItbHVk-t3Dd",
        "outputId": "52800ae2-f0d9-4125-de82-1a71604aefa7"
      },
      "execution_count": null,
      "outputs": [
        {
          "output_type": "stream",
          "name": "stdout",
          "text": [
            "<class 'pandas.core.frame.DataFrame'>\n",
            "RangeIndex: 418 entries, 0 to 417\n",
            "Data columns (total 8 columns):\n",
            " #   Column       Non-Null Count  Dtype  \n",
            "---  ------       --------------  -----  \n",
            " 0   PassengerId  418 non-null    int64  \n",
            " 1   Pclass       418 non-null    int64  \n",
            " 2   Sex          418 non-null    int64  \n",
            " 3   Age          418 non-null    float64\n",
            " 4   SibSp        418 non-null    int64  \n",
            " 5   Parch        418 non-null    int64  \n",
            " 6   Fare         418 non-null    float64\n",
            " 7   Embarked     418 non-null    int64  \n",
            "dtypes: float64(2), int64(6)\n",
            "memory usage: 26.2 KB\n"
          ]
        }
      ]
    },
    {
      "cell_type": "code",
      "source": [
        "y_train=df_train[\"Survived\"] \n",
        "x_train=df_train.drop(\"Survived\",axis=1)"
      ],
      "metadata": {
        "id": "4su0KGN6uKpo"
      },
      "execution_count": null,
      "outputs": []
    },
    {
      "cell_type": "code",
      "source": [
        "from sklearn.model_selection import train_test_split \n",
        "X_train, X_val, Y_train, Y_val= train_test_split(x_train,y_train,test_size=0.2,random_state=40)"
      ],
      "metadata": {
        "id": "8VtPvKcxuBVu"
      },
      "execution_count": null,
      "outputs": []
    },
    {
      "cell_type": "code",
      "source": [
        "# Change 1 - Take passengerId as a separate list and remove it from df_test\n",
        "passId = df_test['PassengerId']\n",
        "df_test = df_test.drop(['PassengerId'],axis=1)\n",
        "passId"
      ],
      "metadata": {
        "colab": {
          "base_uri": "https://localhost:8080/"
        },
        "id": "-d_oQYk364Tn",
        "outputId": "edf50d41-efff-4147-9378-2e731dd1ec96"
      },
      "execution_count": null,
      "outputs": [
        {
          "output_type": "execute_result",
          "data": {
            "text/plain": [
              "0       892\n",
              "1       893\n",
              "2       894\n",
              "3       895\n",
              "4       896\n",
              "       ... \n",
              "413    1305\n",
              "414    1306\n",
              "415    1307\n",
              "416    1308\n",
              "417    1309\n",
              "Name: PassengerId, Length: 418, dtype: int64"
            ]
          },
          "metadata": {},
          "execution_count": 58
        }
      ]
    },
    {
      "cell_type": "code",
      "source": [
        "from sklearn.linear_model import  LogisticRegression\n",
        "from sklearn.metrics import accuracy_score, classification_report\n",
        "model_lr= LogisticRegression().fit(X_train,Y_train) \n",
        "y_pred = model_lr.predict(X_val)\n",
        "print(accuracy_score(y_pred,Y_val))\n",
        "print(classification_report(y_pred,Y_val)) "
      ],
      "metadata": {
        "colab": {
          "base_uri": "https://localhost:8080/"
        },
        "id": "q4X2hDzZuN_4",
        "outputId": "712d8212-a520-4b3e-cb9c-92c3e0fe2b02"
      },
      "execution_count": null,
      "outputs": [
        {
          "output_type": "stream",
          "name": "stdout",
          "text": [
            "0.8156424581005587\n",
            "              precision    recall  f1-score   support\n",
            "\n",
            "           0       0.84      0.84      0.84       104\n",
            "           1       0.78      0.79      0.78        75\n",
            "\n",
            "    accuracy                           0.82       179\n",
            "   macro avg       0.81      0.81      0.81       179\n",
            "weighted avg       0.82      0.82      0.82       179\n",
            "\n"
          ]
        }
      ]
    },
    {
      "cell_type": "code",
      "source": [
        "# Change 2 - Predict on the df_test\n",
        "y_pred = model_lr.predict(df_test) \n"
      ],
      "metadata": {
        "id": "GMfeGGtA7YT6"
      },
      "execution_count": null,
      "outputs": []
    },
    {
      "cell_type": "code",
      "source": [
        "predictions_csv = {\"PassengerId\":passId,\"Survived\":y_pred}\n",
        "df = pd.DataFrame(predictions_csv)\n",
        "df.to_csv(\"submission.csv\",index = False)"
      ],
      "metadata": {
        "id": "loYF29RWuclp"
      },
      "execution_count": null,
      "outputs": []
    }
  ]
}